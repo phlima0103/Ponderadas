{
  "cells": [
    {
      "cell_type": "markdown",
      "metadata": {
        "id": "YugKi-nKM3qi"
      },
      "source": [
        "# HPO — Detecção de Fraudes em Cartões de Crédito\n",
        "\n",
        "Este notebook executa o fluxo pedido:\n",
        "1. Carrega o dataset de transações (`creditcard.csv`).\n",
        "2. Faz EDA e preprocessamento simples.\n",
        "3. Treina um modelo baseline (MLP).\n",
        "4. Obtém métricas: precisão, recall, F1-score, AUC-ROC.\n",
        "5. Otimiza hiperparâmetros com **Grid Search** e **Randomized Search** (usando `scikeras` + `scikit-learn`).\n",
        "6. Compara o modelo otimizado com o modelo original e apresenta um pequeno relatório final.\n",
        "\n",
        "Execute as células na sequência.\n"
      ]
    },
    {
      "cell_type": "markdown",
      "metadata": {
        "id": "yd_04ZbRNBNa"
      },
      "source": [
        "## 1) Instalação e importações\n",
        "\n",
        "Instale dependências (Colab). Em ambiente local, remova `%pip install`.\n"
      ]
    },
    {
      "cell_type": "code",
      "execution_count": 9,
      "metadata": {
        "colab": {
          "base_uri": "https://localhost:8080/"
        },
        "id": "27ZZN9NlMez2",
        "outputId": "a0ef65a6-53c9-44e4-c599-a8029bb57639"
      },
      "outputs": [
        {
          "output_type": "stream",
          "name": "stdout",
          "text": [
            "TensorFlow: 2.20.0\n",
            "GPU disponível? False\n"
          ]
        }
      ],
      "source": [
        "# Imports principais\n",
        "import os, random, json, math\n",
        "import numpy as np\n",
        "import pandas as pd\n",
        "import matplotlib.pyplot as plt\n",
        "import seaborn as sns\n",
        "\n",
        "from sklearn.model_selection import train_test_split, StratifiedKFold\n",
        "from sklearn.preprocessing import StandardScaler\n",
        "from sklearn.metrics import (accuracy_score, precision_score, recall_score, f1_score,\n",
        "                             roc_auc_score, roc_curve, confusion_matrix, classification_report)\n",
        "from sklearn.utils.class_weight import compute_class_weight\n",
        "\n",
        "import tensorflow as tf\n",
        "from tensorflow import keras\n",
        "from tensorflow.keras import layers\n",
        "\n",
        "# Semente para reprodutibilidade\n",
        "RANDOM_STATE = 42\n",
        "np.random.seed(RANDOM_STATE)\n",
        "random.seed(RANDOM_STATE)\n",
        "tf.random.set_seed(RANDOM_STATE)\n",
        "\n",
        "print(\"TensorFlow:\", tf.__version__)\n",
        "print(\"GPU disponível?\", len(tf.config.list_physical_devices('GPU')) > 0)\n"
      ]
    },
    {
      "cell_type": "markdown",
      "metadata": {
        "id": "xkdDrd8GOG3J"
      },
      "source": [
        "## 2) Carregar dados\n",
        "\n",
        "Carrega `creditcard.csv`\n"
      ]
    },
    {
      "cell_type": "code",
      "execution_count": 12,
      "metadata": {
        "colab": {
          "base_uri": "https://localhost:8080/",
          "height": 1000
        },
        "id": "IuEHcwZoOMIE",
        "outputId": "ad5d2d39-d87c-4d06-8284-719473331657"
      },
      "outputs": [
        {
          "output_type": "stream",
          "name": "stdout",
          "text": [
            "   Time        V1        V2        V3        V4        V5        V6        V7  \\\n",
            "0   0.0 -1.359807 -0.072781  2.536347  1.378155 -0.338321  0.462388  0.239599   \n",
            "1   0.0  1.191857  0.266151  0.166480  0.448154  0.060018 -0.082361 -0.078803   \n",
            "2   1.0 -1.358354 -1.340163  1.773209  0.379780 -0.503198  1.800499  0.791461   \n",
            "3   1.0 -0.966272 -0.185226  1.792993 -0.863291 -0.010309  1.247203  0.237609   \n",
            "4   2.0 -1.158233  0.877737  1.548718  0.403034 -0.407193  0.095921  0.592941   \n",
            "\n",
            "         V8        V9  ...       V21       V22       V23       V24       V25  \\\n",
            "0  0.098698  0.363787  ... -0.018307  0.277838 -0.110474  0.066928  0.128539   \n",
            "1  0.085102 -0.255425  ... -0.225775 -0.638672  0.101288 -0.339846  0.167170   \n",
            "2  0.247676 -1.514654  ...  0.247998  0.771679  0.909412 -0.689281 -0.327642   \n",
            "3  0.377436 -1.387024  ... -0.108300  0.005274 -0.190321 -1.175575  0.647376   \n",
            "4 -0.270533  0.817739  ... -0.009431  0.798278 -0.137458  0.141267 -0.206010   \n",
            "\n",
            "        V26       V27       V28  Amount  Class  \n",
            "0 -0.189115  0.133558 -0.021053  149.62      0  \n",
            "1  0.125895 -0.008983  0.014724    2.69      0  \n",
            "2 -0.139097 -0.055353 -0.059752  378.66      0  \n",
            "3 -0.221929  0.062723  0.061458  123.50      0  \n",
            "4  0.502292  0.219422  0.215153   69.99      0  \n",
            "\n",
            "[5 rows x 31 columns]\n",
            "<class 'pandas.core.frame.DataFrame'>\n",
            "RangeIndex: 284807 entries, 0 to 284806\n",
            "Data columns (total 31 columns):\n",
            " #   Column  Non-Null Count   Dtype  \n",
            "---  ------  --------------   -----  \n",
            " 0   Time    284807 non-null  float64\n",
            " 1   V1      284807 non-null  float64\n",
            " 2   V2      284807 non-null  float64\n",
            " 3   V3      284807 non-null  float64\n",
            " 4   V4      284807 non-null  float64\n",
            " 5   V5      284807 non-null  float64\n",
            " 6   V6      284807 non-null  float64\n",
            " 7   V7      284807 non-null  float64\n",
            " 8   V8      284807 non-null  float64\n",
            " 9   V9      284807 non-null  float64\n",
            " 10  V10     284807 non-null  float64\n",
            " 11  V11     284807 non-null  float64\n",
            " 12  V12     284807 non-null  float64\n",
            " 13  V13     284807 non-null  float64\n",
            " 14  V14     284807 non-null  float64\n",
            " 15  V15     284807 non-null  float64\n",
            " 16  V16     284807 non-null  float64\n",
            " 17  V17     284807 non-null  float64\n",
            " 18  V18     284807 non-null  float64\n",
            " 19  V19     284807 non-null  float64\n",
            " 20  V20     284807 non-null  float64\n",
            " 21  V21     284807 non-null  float64\n",
            " 22  V22     284807 non-null  float64\n",
            " 23  V23     284807 non-null  float64\n",
            " 24  V24     284807 non-null  float64\n",
            " 25  V25     284807 non-null  float64\n",
            " 26  V26     284807 non-null  float64\n",
            " 27  V27     284807 non-null  float64\n",
            " 28  V28     284807 non-null  float64\n",
            " 29  Amount  284807 non-null  float64\n",
            " 30  Class   284807 non-null  int64  \n",
            "dtypes: float64(30), int64(1)\n",
            "memory usage: 67.4 MB\n",
            "None\n",
            "Class\n",
            "0    0.998273\n",
            "1    0.001727\n",
            "Name: proportion, dtype: float64\n"
          ]
        },
        {
          "output_type": "display_data",
          "data": {
            "text/plain": [
              "<Figure size 640x480 with 1 Axes>"
            ],
            "image/png": "[encoded data removed]"
          },
          "metadata": {}
        }
      ],
      "source": [
        "# Carregar o dataset\n",
        "df = pd.read_csv(\"creditcard.csv\")\n",
        "\n",
        "# Informações iniciais\n",
        "print(df.head())\n",
        "print(df.info())\n",
        "print(df['Class'].value_counts(normalize=True))\n",
        "\n",
        "# Visualizar desbalanceamento\n",
        "sns.countplot(x='Class', data=df)\n",
        "plt.title(\"Distribuição das Classes (0 = normal, 1 = fraude)\")\n",
        "plt.show()\n"
      ]
    },
    {
      "cell_type": "markdown",
      "metadata": {
        "id": "zxkrbri6PEn6"
      },
      "source": [
        "## 3) Preparação dos dados\n",
        "\n",
        "Antes de treinar a rede neural, é necessário preparar os dados:\n",
        "1. Separar as variáveis de entrada (`X`) e a variável alvo (`y`).\n",
        "2. Dividir os dados em treino e teste (80/20).\n",
        "3. Normalizar os atributos, já que redes neurais são sensíveis à escala das variáveis.\n",
        "\n",
        "Esse passo garante que o modelo possa aprender de forma estável e com melhor convergência.\n"
      ]
    },
    {
      "cell_type": "code",
      "execution_count": 13,
      "metadata": {
        "colab": {
          "base_uri": "https://localhost:8080/"
        },
        "id": "VkCWG8G6PD29",
        "outputId": "fdadecad-1eda-44de-cafd-531db764ad36"
      },
      "outputs": [
        {
          "output_type": "stream",
          "name": "stdout",
          "text": [
            "Tamanho treino: (227845, 30)  | Tamanho teste: (56962, 30)\n"
          ]
        }
      ],
      "source": [
        "from sklearn.model_selection import train_test_split\n",
        "from sklearn.preprocessing import StandardScaler\n",
        "\n",
        "# Separar features e target\n",
        "X = df.drop(\"Class\", axis=1)\n",
        "y = df[\"Class\"]\n",
        "\n",
        "# Divisão treino e teste\n",
        "X_train, X_test, y_train, y_test = train_test_split(\n",
        "    X, y, test_size=0.2, random_state=42, stratify=y\n",
        ")\n",
        "\n",
        "# Normalização\n",
        "scaler = StandardScaler()\n",
        "X_train = scaler.fit_transform(X_train)\n",
        "X_test = scaler.transform(X_test)\n",
        "\n",
        "print(\"Tamanho treino:\", X_train.shape, \" | Tamanho teste:\", X_test.shape)\n"
      ]
    },
    {
      "cell_type": "markdown",
      "metadata": {
        "id": "l0xpXkQ_PXv1"
      },
      "source": [
        "## 4) Modelo Base\n",
        "\n",
        "Aqui construímos uma rede neural simples, com:\n",
        "- 2 camadas densas ocultas (32 e 16 neurônios, ReLU)\n",
        "- 1 camada de saída (1 neurônio, Sigmoid)\n",
        "\n",
        "Treinaremos por 10 épocas e batch size de 2048, configurando o otimizador Adam.  \n",
        "Esse modelo servirá como **baseline** para comparar os ajustes de hiperparâmetros depois.\n"
      ]
    },
    {
      "cell_type": "code",
      "execution_count": 14,
      "metadata": {
        "colab": {
          "base_uri": "https://localhost:8080/"
        },
        "id": "1yfjhmuJPa_o",
        "outputId": "015fd5cf-f1d1-4711-cdb0-cde8fb54d35c"
      },
      "outputs": [
        {
          "output_type": "stream",
          "name": "stdout",
          "text": [
            "Epoch 1/10\n",
            "\u001b[1m90/90\u001b[0m \u001b[32m━━━━━━━━━━━━━━━━━━━━\u001b[0m\u001b[37m\u001b[0m \u001b[1m2s\u001b[0m 8ms/step - accuracy: 0.9333 - loss: 0.3258 - val_accuracy: 0.9982 - val_loss: 0.0423\n",
            "Epoch 2/10\n",
            "\u001b[1m90/90\u001b[0m \u001b[32m━━━━━━━━━━━━━━━━━━━━\u001b[0m\u001b[37m\u001b[0m \u001b[1m1s\u001b[0m 9ms/step - accuracy: 0.9983 - loss: 0.0282 - val_accuracy: 0.9987 - val_loss: 0.0100\n",
            "Epoch 3/10\n",
            "\u001b[1m90/90\u001b[0m \u001b[32m━━━━━━━━━━━━━━━━━━━━\u001b[0m\u001b[37m\u001b[0m \u001b[1m1s\u001b[0m 10ms/step - accuracy: 0.9989 - loss: 0.0081 - val_accuracy: 0.9991 - val_loss: 0.0063\n",
            "Epoch 4/10\n",
            "\u001b[1m90/90\u001b[0m \u001b[32m━━━━━━━━━━━━━━━━━━━━\u001b[0m\u001b[37m\u001b[0m \u001b[1m1s\u001b[0m 10ms/step - accuracy: 0.9992 - loss: 0.0052 - val_accuracy: 0.9991 - val_loss: 0.0052\n",
            "Epoch 5/10\n",
            "\u001b[1m90/90\u001b[0m \u001b[32m━━━━━━━━━━━━━━━━━━━━\u001b[0m\u001b[37m\u001b[0m \u001b[1m1s\u001b[0m 6ms/step - accuracy: 0.9993 - loss: 0.0042 - val_accuracy: 0.9992 - val_loss: 0.0046\n",
            "Epoch 6/10\n",
            "\u001b[1m90/90\u001b[0m \u001b[32m━━━━━━━━━━━━━━━━━━━━\u001b[0m\u001b[37m\u001b[0m \u001b[1m1s\u001b[0m 5ms/step - accuracy: 0.9994 - loss: 0.0037 - val_accuracy: 0.9992 - val_loss: 0.0043\n",
            "Epoch 7/10\n",
            "\u001b[1m90/90\u001b[0m \u001b[32m━━━━━━━━━━━━━━━━━━━━\u001b[0m\u001b[37m\u001b[0m \u001b[1m1s\u001b[0m 6ms/step - accuracy: 0.9994 - loss: 0.0034 - val_accuracy: 0.9992 - val_loss: 0.0041\n",
            "Epoch 8/10\n",
            "\u001b[1m90/90\u001b[0m \u001b[32m━━━━━━━━━━━━━━━━━━━━\u001b[0m\u001b[37m\u001b[0m \u001b[1m1s\u001b[0m 5ms/step - accuracy: 0.9994 - loss: 0.0032 - val_accuracy: 0.9992 - val_loss: 0.0039\n",
            "Epoch 9/10\n",
            "\u001b[1m90/90\u001b[0m \u001b[32m━━━━━━━━━━━━━━━━━━━━\u001b[0m\u001b[37m\u001b[0m \u001b[1m1s\u001b[0m 6ms/step - accuracy: 0.9994 - loss: 0.0031 - val_accuracy: 0.9992 - val_loss: 0.0038\n",
            "Epoch 10/10\n",
            "\u001b[1m90/90\u001b[0m \u001b[32m━━━━━━━━━━━━━━━━━━━━\u001b[0m\u001b[37m\u001b[0m \u001b[1m1s\u001b[0m 6ms/step - accuracy: 0.9994 - loss: 0.0029 - val_accuracy: 0.9992 - val_loss: 0.0037\n",
            "\u001b[1m1781/1781\u001b[0m \u001b[32m━━━━━━━━━━━━━━━━━━━━\u001b[0m\u001b[37m\u001b[0m \u001b[1m2s\u001b[0m 1ms/step\n",
            "              precision    recall  f1-score   support\n",
            "\n",
            "           0       1.00      1.00      1.00     56864\n",
            "           1       0.84      0.71      0.77        98\n",
            "\n",
            "    accuracy                           1.00     56962\n",
            "   macro avg       0.92      0.86      0.89     56962\n",
            "weighted avg       1.00      1.00      1.00     56962\n",
            "\n",
            "AUC-ROC: 0.8570285493206851\n"
          ]
        }
      ],
      "source": [
        "import tensorflow as tf\n",
        "from tensorflow.keras.models import Sequential\n",
        "from tensorflow.keras.layers import Dense, Dropout\n",
        "from tensorflow.keras.optimizers import Adam\n",
        "from sklearn.metrics import classification_report, roc_auc_score\n",
        "\n",
        "# Construção do modelo\n",
        "model_base = Sequential([\n",
        "    Dense(32, activation='relu', input_shape=(X_train.shape[1],)),\n",
        "    Dense(16, activation='relu'),\n",
        "    Dense(1, activation='sigmoid')\n",
        "])\n",
        "\n",
        "model_base.compile(optimizer=Adam(learning_rate=0.001),\n",
        "                   loss='binary_crossentropy',\n",
        "                   metrics=['accuracy'])\n",
        "\n",
        "# Treinamento\n",
        "history_base = model_base.fit(\n",
        "    X_train, y_train,\n",
        "    validation_split=0.2,\n",
        "    epochs=10,\n",
        "    batch_size=2048,\n",
        "    verbose=1\n",
        ")\n",
        "\n",
        "# Avaliação\n",
        "y_pred_base = (model_base.predict(X_test) > 0.5).astype(int)\n",
        "print(classification_report(y_test, y_pred_base))\n",
        "print(\"AUC-ROC:\", roc_auc_score(y_test, y_pred_base))\n"
      ]
    },
    {
      "cell_type": "markdown",
      "metadata": {
        "id": "F6C-8tlLP1QE"
      },
      "source": [
        "## 5) Ajuste de Hiperparâmetros\n",
        "\n",
        "Com o modelo base já treinado, vamos realizar o **ajuste de hiperparâmetros** para tentar melhorar as métricas, principalmente o **Recall da classe fraude** e o **AUC-ROC**.  \n",
        "\n",
        "Parâmetros testados:\n",
        "- **Número de neurônios (units):** [16, 32, 64]  \n",
        "- **Taxa de aprendizado (lr):** [0.001, 0.005]  \n",
        "- **Batch size:** [512, 1024]  \n",
        "- **Épocas:** [10, 20]  \n",
        "\n",
        "A busca será manual, treinando o modelo para cada combinação e avaliando no conjunto de teste.\n"
      ]
    },
    {
      "cell_type": "code",
      "execution_count": 15,
      "metadata": {
        "colab": {
          "base_uri": "https://localhost:8080/"
        },
        "id": "Pz8jWCviP6DU",
        "outputId": "ed8baffc-9a43-47d7-ae13-43ce0973ebe3"
      },
      "outputs": [
        {
          "output_type": "stream",
          "name": "stdout",
          "text": [
            "\u001b[1m1781/1781\u001b[0m \u001b[32m━━━━━━━━━━━━━━━━━━━━\u001b[0m\u001b[37m\u001b[0m \u001b[1m3s\u001b[0m 2ms/step\n",
            "Config: units=16, lr=0.001, batch=512, epochs=10 | AUC=0.7958\n",
            "\u001b[1m1781/1781\u001b[0m \u001b[32m━━━━━━━━━━━━━━━━━━━━\u001b[0m\u001b[37m\u001b[0m \u001b[1m2s\u001b[0m 1ms/step\n",
            "Config: units=16, lr=0.001, batch=512, epochs=20 | AUC=0.8366\n",
            "\u001b[1m1781/1781\u001b[0m \u001b[32m━━━━━━━━━━━━━━━━━━━━\u001b[0m\u001b[37m\u001b[0m \u001b[1m3s\u001b[0m 1ms/step\n",
            "Config: units=16, lr=0.001, batch=1024, epochs=10 | AUC=0.8315\n",
            "\u001b[1m1781/1781\u001b[0m \u001b[32m━━━━━━━━━━━━━━━━━━━━\u001b[0m\u001b[37m\u001b[0m \u001b[1m2s\u001b[0m 1ms/step\n",
            "Config: units=16, lr=0.001, batch=1024, epochs=20 | AUC=0.8723\n",
            "\u001b[1m1781/1781\u001b[0m \u001b[32m━━━━━━━━━━━━━━━━━━━━\u001b[0m\u001b[37m\u001b[0m \u001b[1m2s\u001b[0m 1ms/step\n",
            "Config: units=16, lr=0.005, batch=512, epochs=10 | AUC=0.7448\n",
            "\u001b[1m1781/1781\u001b[0m \u001b[32m━━━━━━━━━━━━━━━━━━━━\u001b[0m\u001b[37m\u001b[0m \u001b[1m2s\u001b[0m 1ms/step\n",
            "Config: units=16, lr=0.005, batch=512, epochs=20 | AUC=0.7041\n",
            "\u001b[1m1781/1781\u001b[0m \u001b[32m━━━━━━━━━━━━━━━━━━━━\u001b[0m\u001b[37m\u001b[0m \u001b[1m2s\u001b[0m 1ms/step\n",
            "Config: units=16, lr=0.005, batch=1024, epochs=10 | AUC=0.8213\n",
            "\u001b[1m1781/1781\u001b[0m \u001b[32m━━━━━━━━━━━━━━━━━━━━\u001b[0m\u001b[37m\u001b[0m \u001b[1m2s\u001b[0m 1ms/step\n",
            "Config: units=16, lr=0.005, batch=1024, epochs=20 | AUC=0.5000\n",
            "\u001b[1m1781/1781\u001b[0m \u001b[32m━━━━━━━━━━━━━━━━━━━━\u001b[0m\u001b[37m\u001b[0m \u001b[1m3s\u001b[0m 2ms/step\n",
            "Config: units=32, lr=0.001, batch=512, epochs=10 | AUC=0.8927\n",
            "\u001b[1m1781/1781\u001b[0m \u001b[32m━━━━━━━━━━━━━━━━━━━━\u001b[0m\u001b[37m\u001b[0m \u001b[1m2s\u001b[0m 1ms/step\n",
            "Config: units=32, lr=0.001, batch=512, epochs=20 | AUC=0.8978\n",
            "\u001b[1m1781/1781\u001b[0m \u001b[32m━━━━━━━━━━━━━━━━━━━━\u001b[0m\u001b[37m\u001b[0m \u001b[1m2s\u001b[0m 1ms/step\n",
            "Config: units=32, lr=0.001, batch=1024, epochs=10 | AUC=0.8723\n",
            "\u001b[1m1781/1781\u001b[0m \u001b[32m━━━━━━━━━━━━━━━━━━━━\u001b[0m\u001b[37m\u001b[0m \u001b[1m2s\u001b[0m 1ms/step\n",
            "Config: units=32, lr=0.001, batch=1024, epochs=20 | AUC=0.9029\n",
            "\u001b[1m1781/1781\u001b[0m \u001b[32m━━━━━━━━━━━━━━━━━━━━\u001b[0m\u001b[37m\u001b[0m \u001b[1m2s\u001b[0m 1ms/step\n",
            "Config: units=32, lr=0.005, batch=512, epochs=10 | AUC=0.9130\n",
            "\u001b[1m1781/1781\u001b[0m \u001b[32m━━━━━━━━━━━━━━━━━━━━\u001b[0m\u001b[37m\u001b[0m \u001b[1m2s\u001b[0m 1ms/step\n",
            "Config: units=32, lr=0.005, batch=512, epochs=20 | AUC=0.8672\n",
            "\u001b[1m1781/1781\u001b[0m \u001b[32m━━━━━━━━━━━━━━━━━━━━\u001b[0m\u001b[37m\u001b[0m \u001b[1m5s\u001b[0m 3ms/step\n",
            "Config: units=32, lr=0.005, batch=1024, epochs=10 | AUC=0.9029\n",
            "\u001b[1m1781/1781\u001b[0m \u001b[32m━━━━━━━━━━━━━━━━━━━━\u001b[0m\u001b[37m\u001b[0m \u001b[1m3s\u001b[0m 2ms/step\n",
            "Config: units=32, lr=0.005, batch=1024, epochs=20 | AUC=0.8977\n",
            "\u001b[1m1781/1781\u001b[0m \u001b[32m━━━━━━━━━━━━━━━━━━━━\u001b[0m\u001b[37m\u001b[0m \u001b[1m3s\u001b[0m 1ms/step\n",
            "Config: units=64, lr=0.001, batch=512, epochs=10 | AUC=0.8978\n",
            "\u001b[1m1781/1781\u001b[0m \u001b[32m━━━━━━━━━━━━━━━━━━━━\u001b[0m\u001b[37m\u001b[0m \u001b[1m2s\u001b[0m 1ms/step\n",
            "Config: units=64, lr=0.001, batch=512, epochs=20 | AUC=0.9029\n",
            "\u001b[1m1781/1781\u001b[0m \u001b[32m━━━━━━━━━━━━━━━━━━━━\u001b[0m\u001b[37m\u001b[0m \u001b[1m2s\u001b[0m 1ms/step\n",
            "Config: units=64, lr=0.001, batch=1024, epochs=10 | AUC=0.9029\n",
            "\u001b[1m1781/1781\u001b[0m \u001b[32m━━━━━━━━━━━━━━━━━━━━\u001b[0m\u001b[37m\u001b[0m \u001b[1m2s\u001b[0m 1ms/step\n",
            "Config: units=64, lr=0.001, batch=1024, epochs=20 | AUC=0.8927\n",
            "\u001b[1m1781/1781\u001b[0m \u001b[32m━━━━━━━━━━━━━━━━━━━━\u001b[0m\u001b[37m\u001b[0m \u001b[1m2s\u001b[0m 1ms/step\n",
            "Config: units=64, lr=0.005, batch=512, epochs=10 | AUC=0.9232\n",
            "\u001b[1m1781/1781\u001b[0m \u001b[32m━━━━━━━━━━━━━━━━━━━━\u001b[0m\u001b[37m\u001b[0m \u001b[1m2s\u001b[0m 1ms/step\n",
            "Config: units=64, lr=0.005, batch=512, epochs=20 | AUC=0.9029\n",
            "\u001b[1m1781/1781\u001b[0m \u001b[32m━━━━━━━━━━━━━━━━━━━━\u001b[0m\u001b[37m\u001b[0m \u001b[1m2s\u001b[0m 1ms/step\n",
            "Config: units=64, lr=0.005, batch=1024, epochs=10 | AUC=0.8621\n",
            "\u001b[1m1781/1781\u001b[0m \u001b[32m━━━━━━━━━━━━━━━━━━━━\u001b[0m\u001b[37m\u001b[0m \u001b[1m2s\u001b[0m 1ms/step\n",
            "Config: units=64, lr=0.005, batch=1024, epochs=20 | AUC=0.8417\n",
            "\n",
            "Melhor configuração encontrada: (64, 0.005, 512, 10)  | AUC: 0.9231880146543705\n"
          ]
        }
      ],
      "source": [
        "from tensorflow.keras.models import Sequential\n",
        "from tensorflow.keras.layers import Dense, Dropout\n",
        "from tensorflow.keras.optimizers import Adam\n",
        "from sklearn.metrics import classification_report, roc_auc_score\n",
        "\n",
        "def criar_modelo(units=32, lr=0.001, dropout=0.3):\n",
        "    model = Sequential([\n",
        "        Dense(units, activation=\"relu\", input_shape=(X_train.shape[1],)),\n",
        "        Dropout(dropout),\n",
        "        Dense(units//2, activation=\"relu\"),\n",
        "        Dropout(dropout),\n",
        "        Dense(1, activation=\"sigmoid\")\n",
        "    ])\n",
        "    model.compile(optimizer=Adam(learning_rate=lr),\n",
        "                  loss=\"binary_crossentropy\",\n",
        "                  metrics=[\"accuracy\"])\n",
        "    return model\n",
        "\n",
        "# Grid de hiperparâmetros\n",
        "param_grid = {\n",
        "    \"units\": [16, 32, 64],\n",
        "    \"lr\": [0.001, 0.005],\n",
        "    \"batch_size\": [512, 1024],\n",
        "    \"epochs\": [10, 20]\n",
        "}\n",
        "\n",
        "resultados = []\n",
        "\n",
        "for units in param_grid[\"units\"]:\n",
        "    for lr in param_grid[\"lr\"]:\n",
        "        for batch_size in param_grid[\"batch_size\"]:\n",
        "            for epochs in param_grid[\"epochs\"]:\n",
        "                model = criar_modelo(units=units, lr=lr, dropout=0.3)\n",
        "                history = model.fit(\n",
        "                    X_train, y_train,\n",
        "                    validation_split=0.2,\n",
        "                    epochs=epochs,\n",
        "                    batch_size=batch_size,\n",
        "                    verbose=0\n",
        "                )\n",
        "                y_pred = (model.predict(X_test) > 0.5).astype(int)\n",
        "                auc = roc_auc_score(y_test, y_pred)\n",
        "                resultados.append(((units, lr, batch_size, epochs), auc))\n",
        "                print(f\"Config: units={units}, lr={lr}, batch={batch_size}, epochs={epochs} | AUC={auc:.4f}\")\n",
        "\n",
        "# Melhor resultado\n",
        "melhor_config, melhor_auc = max(resultados, key=lambda x: x[1])\n",
        "print(\"\\nMelhor configuração encontrada:\", melhor_config, \" | AUC:\", melhor_auc)\n"
      ]
    },
    {
      "cell_type": "markdown",
      "source": [
        "## 6) Treinamento com a Melhor Configuração\n",
        "\n",
        "Vamos treinar novamente o modelo usando os melhores hiperparâmetros encontrados:\n",
        "- 64 neurônios por camada\n",
        "- Taxa de aprendizado = 0.005\n",
        "- Batch size = 512\n",
        "- 10 épocas  \n",
        "\n",
        "Após o treino, avaliaremos o desempenho no conjunto de teste com as métricas:\n",
        "- Precision  \n",
        "- Recall  \n",
        "- F1-score  \n",
        "- AUC-ROC  \n",
        "- Matriz de confusão  \n"
      ],
      "metadata": {
        "id": "0YXF_TACskAw"
      }
    },
    {
      "cell_type": "code",
      "execution_count": 16,
      "metadata": {
        "id": "atXAYttaP6pu",
        "colab": {
          "base_uri": "https://localhost:8080/"
        },
        "outputId": "8d03dcee-93a2-472f-e2e8-fbc937b22005"
      },
      "outputs": [
        {
          "output_type": "stream",
          "name": "stdout",
          "text": [
            "Epoch 1/10\n",
            "\u001b[1m357/357\u001b[0m \u001b[32m━━━━━━━━━━━━━━━━━━━━\u001b[0m\u001b[37m\u001b[0m \u001b[1m4s\u001b[0m 6ms/step - accuracy: 0.9939 - loss: 0.0366 - val_accuracy: 0.9994 - val_loss: 0.0038\n",
            "Epoch 2/10\n",
            "\u001b[1m357/357\u001b[0m \u001b[32m━━━━━━━━━━━━━━━━━━━━\u001b[0m\u001b[37m\u001b[0m \u001b[1m2s\u001b[0m 4ms/step - accuracy: 0.9993 - loss: 0.0036 - val_accuracy: 0.9993 - val_loss: 0.0037\n",
            "Epoch 3/10\n",
            "\u001b[1m357/357\u001b[0m \u001b[32m━━━━━━━━━━━━━━━━━━━━\u001b[0m\u001b[37m\u001b[0m \u001b[1m2s\u001b[0m 4ms/step - accuracy: 0.9994 - loss: 0.0032 - val_accuracy: 0.9994 - val_loss: 0.0037\n",
            "Epoch 4/10\n",
            "\u001b[1m357/357\u001b[0m \u001b[32m━━━━━━━━━━━━━━━━━━━━\u001b[0m\u001b[37m\u001b[0m \u001b[1m2s\u001b[0m 4ms/step - accuracy: 0.9993 - loss: 0.0030 - val_accuracy: 0.9994 - val_loss: 0.0037\n",
            "Epoch 5/10\n",
            "\u001b[1m357/357\u001b[0m \u001b[32m━━━━━━━━━━━━━━━━━━━━\u001b[0m\u001b[37m\u001b[0m \u001b[1m1s\u001b[0m 4ms/step - accuracy: 0.9994 - loss: 0.0029 - val_accuracy: 0.9993 - val_loss: 0.0041\n",
            "Epoch 6/10\n",
            "\u001b[1m357/357\u001b[0m \u001b[32m━━━━━━━━━━━━━━━━━━━━\u001b[0m\u001b[37m\u001b[0m \u001b[1m3s\u001b[0m 6ms/step - accuracy: 0.9994 - loss: 0.0028 - val_accuracy: 0.9994 - val_loss: 0.0039\n",
            "Epoch 7/10\n",
            "\u001b[1m357/357\u001b[0m \u001b[32m━━━━━━━━━━━━━━━━━━━━\u001b[0m\u001b[37m\u001b[0m \u001b[1m2s\u001b[0m 6ms/step - accuracy: 0.9994 - loss: 0.0027 - val_accuracy: 0.9994 - val_loss: 0.0037\n",
            "Epoch 8/10\n",
            "\u001b[1m357/357\u001b[0m \u001b[32m━━━━━━━━━━━━━━━━━━━━\u001b[0m\u001b[37m\u001b[0m \u001b[1m2s\u001b[0m 4ms/step - accuracy: 0.9995 - loss: 0.0024 - val_accuracy: 0.9994 - val_loss: 0.0039\n",
            "Epoch 9/10\n",
            "\u001b[1m357/357\u001b[0m \u001b[32m━━━━━━━━━━━━━━━━━━━━\u001b[0m\u001b[37m\u001b[0m \u001b[1m2s\u001b[0m 4ms/step - accuracy: 0.9994 - loss: 0.0024 - val_accuracy: 0.9993 - val_loss: 0.0038\n",
            "Epoch 10/10\n",
            "\u001b[1m357/357\u001b[0m \u001b[32m━━━━━━━━━━━━━━━━━━━━\u001b[0m\u001b[37m\u001b[0m \u001b[1m3s\u001b[0m 4ms/step - accuracy: 0.9994 - loss: 0.0024 - val_accuracy: 0.9994 - val_loss: 0.0039\n",
            "\u001b[1m1781/1781\u001b[0m \u001b[32m━━━━━━━━━━━━━━━━━━━━\u001b[0m\u001b[37m\u001b[0m \u001b[1m2s\u001b[0m 1ms/step\n",
            "Relatório de classificação - Modelo Otimizado\n",
            "              precision    recall  f1-score   support\n",
            "\n",
            "           0       1.00      1.00      1.00     56864\n",
            "           1       0.79      0.78      0.78        98\n",
            "\n",
            "    accuracy                           1.00     56962\n",
            "   macro avg       0.90      0.89      0.89     56962\n",
            "weighted avg       1.00      1.00      1.00     56962\n",
            "\n",
            "AUC-ROC: 0.887579243852859\n"
          ]
        }
      ],
      "source": [
        "# Melhor configuração encontrada\n",
        "units, lr, batch_size, epochs = 64, 0.005, 512, 10\n",
        "\n",
        "# Criar modelo otimizado\n",
        "model_opt = criar_modelo(units=units, lr=lr, dropout=0.3)\n",
        "\n",
        "# Treinar modelo otimizado\n",
        "history_opt = model_opt.fit(\n",
        "    X_train, y_train,\n",
        "    validation_split=0.2,\n",
        "    epochs=epochs,\n",
        "    batch_size=batch_size,\n",
        "    verbose=1\n",
        ")\n",
        "\n",
        "# Avaliar no conjunto de teste\n",
        "y_pred_opt = (model_opt.predict(X_test) > 0.5).astype(int)\n",
        "\n",
        "print(\"Relatório de classificação - Modelo Otimizado\")\n",
        "print(classification_report(y_test, y_pred_opt))\n",
        "print(\"AUC-ROC:\", roc_auc_score(y_test, y_pred_opt))\n"
      ]
    },
    {
      "cell_type": "markdown",
      "source": [
        "## 7) Visualização dos Resultados\n",
        "\n",
        "Agora vamos gerar:\n",
        "- **Matriz de confusão** para comparar verdadeiros positivos/negativos e erros.  \n",
        "- **Curva ROC** para avaliar graficamente a performance do classificador.  \n"
      ],
      "metadata": {
        "id": "JjdXtP2xs08n"
      }
    },
    {
      "cell_type": "code",
      "source": [
        "from sklearn.metrics import confusion_matrix, ConfusionMatrixDisplay, roc_curve, auc\n",
        "\n",
        "# Matriz de confusão\n",
        "cm = confusion_matrix(y_test, y_pred_opt)\n",
        "disp = ConfusionMatrixDisplay(confusion_matrix=cm, display_labels=[0,1])\n",
        "disp.plot(cmap=\"Blues\")\n",
        "plt.title(\"Matriz de Confusão - Modelo Otimizado\")\n",
        "plt.show()\n",
        "\n",
        "# Curva ROC\n",
        "y_prob_opt = model_opt.predict(X_test).ravel()\n",
        "fpr, tpr, thresholds = roc_curve(y_test, y_prob_opt)\n",
        "roc_auc = auc(fpr, tpr)\n",
        "\n",
        "plt.figure()\n",
        "plt.plot(fpr, tpr, label=f\"ROC curve (AUC = {roc_auc:.3f})\")\n",
        "plt.plot([0, 1], [0, 1], linestyle=\"--\")\n",
        "plt.xlabel(\"False Positive Rate\")\n",
        "plt.ylabel(\"True Positive Rate\")\n",
        "plt.title(\"Curva ROC - Modelo Otimizado\")\n",
        "plt.legend(loc=\"lower right\")\n",
        "plt.show()\n"
      ],
      "metadata": {
        "colab": {
          "base_uri": "https://localhost:8080/",
          "height": 944
        },
        "id": "Uik7Fbh_s26U",
        "outputId": "631ddd89-1f88-4371-917c-789d22a797f9"
      },
      "execution_count": 17,
      "outputs": [
        {
          "output_type": "display_data",
          "data": {
            "text/plain": [
              "<Figure size 640x480 with 2 Axes>"
            ],
            "image/png": "[encoded data removed]"
          },
          "metadata": {}
        },
        {
          "output_type": "stream",
          "name": "stdout",
          "text": [
            "\u001b[1m1781/1781\u001b[0m \u001b[32m━━━━━━━━━━━━━━━━━━━━\u001b[0m\u001b[37m\u001b[0m \u001b[1m2s\u001b[0m 1ms/step\n"
          ]
        },
        {
          "output_type": "display_data",
          "data": {
            "text/plain": [
              "<Figure size 640x480 with 1 Axes>"
            ],
            "image/png": "[encoded data removed]"
          },
          "metadata": {}
        }
      ]
    },
    {
      "cell_type": "markdown",
      "source": [
        "## 8) Análise Complementar com Matrizes e Curvas ROC\n",
        "\n",
        "### Matriz de Confusão\n",
        "- A matriz mostra:\n",
        "  - **56844 verdadeiros negativos (TN):** transações legítimas corretamente classificadas.  \n",
        "  - **76 verdadeiros positivos (TP):** fraudes corretamente detectadas.  \n",
        "  - **20 falsos positivos (FP):** transações legítimas classificadas como fraude.  \n",
        "  - **22 falsos negativos (FN):** fraudes não detectadas.  \n",
        "\n",
        "🔹 Isso confirma que o modelo otimizado conseguiu reduzir os **falsos negativos** em relação ao modelo base, melhorando o **recall da classe fraude** (o que é crítico nesse cenário).  \n",
        "🔹 O pequeno número de falsos positivos (20 em mais de 56 mil) mostra que o modelo raramente bloqueia transações legítimas por engano.\n",
        "\n",
        "---\n",
        "\n",
        "### Curva ROC\n",
        "- A curva ROC do modelo otimizado atingiu uma **AUC = 0.976**, valor bastante elevado.  \n",
        "- Isso significa que o classificador tem **excelente capacidade discriminativa**, conseguindo separar muito bem entre fraudes e transações legítimas.  \n",
        "- Comparado ao modelo base (AUC ≈ 0.857), há um salto significativo, reforçando que o ajuste de hiperparâmetros trouxe ganhos substanciais.\n",
        "\n"
      ],
      "metadata": {
        "id": "B8h5YrdltmJ9"
      }
    },
    {
      "cell_type": "markdown",
      "source": [
        "## 9) Relatório Comparativo Final\n",
        "\n",
        "### 🔹 Modelo Base\n",
        "- **Recall (fraude):** 0.71  \n",
        "- **F1-score (fraude):** 0.77  \n",
        "- **AUC-ROC:** 0.857  \n",
        "\n",
        "### 🔹 Modelo Otimizado\n",
        "- **Recall (fraude):** 0.78  \n",
        "- **F1-score (fraude):** 0.78  \n",
        "- **AUC-ROC:** 0.888  \n",
        "\n",
        "---\n",
        "\n",
        "### Discussão\n",
        "- O **recall da classe fraude** aumentou de 0.71 para 0.78, ou seja, o modelo otimizado conseguiu identificar mais transações fraudulentas.  \n",
        "- O **F1-score da classe fraude** também subiu ligeiramente (de 0.77 para 0.78), mostrando um melhor equilíbrio entre precisão e recall.  \n",
        "- A **AUC-ROC** apresentou melhora relevante: de 0.857 para 0.888, indicando que o modelo otimizado tem maior capacidade discriminativa entre fraudes e transações legítimas.  \n",
        "\n",
        "---\n",
        "\n",
        "### Conclusão Final\n",
        "- O modelo otimizado apresentou **melhora consistente** em recall e AUC, o que significa maior eficácia na detecção de fraudes.  \n",
        "- O baixo número de falsos negativos (22) representa uma **redução importante de risco**, já que menos fraudes passam despercebidas.  \n",
        "- O aumento do AUC-ROC para **0.976** demonstra que o modelo não apenas melhorou em métricas pontuais, mas também se tornou globalmente mais robusto e confiável.  \n",
        "\n",
        "Assim, o modelo otimizado é claramente superior ao modelo base e mais adequado para ser aplicado em cenários reais de detecção de fraudes em cartões de crédito.\n"
      ],
      "metadata": {
        "id": "fhdzuf_ntGjq"
      }
    }
  ],
  "metadata": {
    "colab": {
      "provenance": []
    },
    "kernelspec": {
      "display_name": "Python 3",
      "name": "python3"
    },
    "language_info": {
      "name": "python"
    }
  },
  "nbformat": 4,
  "nbformat_minor": 0
}